{
 "cells": [
  {
   "cell_type": "code",
   "execution_count": 1,
   "id": "4173f88e-385d-4c1f-b4b3-3d0f1058fc0c",
   "metadata": {},
   "outputs": [],
   "source": [
    "#Q.1 Abstraction is a fundamental concept in object oriented programming\n",
    "# It is the process of hiding the internal details of an application\n",
    "# from the outer world,while only exposing the necessary features\n",
    "\n",
    "import abc\n",
    "class skeleton():\n",
    "    \n",
    "    @abc.abstractmethod\n",
    "    def example1(self):\n",
    "        pass\n",
    "    \n",
    "    @abc.abstractmethod\n",
    "    def example2(self):\n",
    "        pass\n",
    "   \n",
    "    @abc.abstractmethod\n",
    "    def example3(self):\n",
    "        pass"
   ]
  },
  {
   "cell_type": "code",
   "execution_count": 2,
   "id": "afa4dc60-f0db-4be8-92a0-b0d4b20fb723",
   "metadata": {},
   "outputs": [],
   "source": [
    "class details(skeleton):\n",
    "    \n",
    "    def example1(self):\n",
    "        return \"This is test type 1001\"\n",
    "    \n",
    "    def example2(self):\n",
    "        return \"This is test type 1002\"\n",
    "    \n",
    "    def example3(self):\n",
    "        return \"This is test type 1003\""
   ]
  },
  {
   "cell_type": "code",
   "execution_count": 3,
   "id": "2753a835-d2af-40d6-99ad-bd6a7f79cc38",
   "metadata": {},
   "outputs": [],
   "source": [
    "class masters(skeleton):\n",
    "    \n",
    "    def example1(self):\n",
    "        return \" test type 2001\"\n",
    "    \n",
    "    def example2(self):\n",
    "        return \"test type 2002\"\n",
    "    \n",
    "    def example3(self):\n",
    "        return \"test type 2003\""
   ]
  },
  {
   "cell_type": "code",
   "execution_count": 6,
   "id": "d5b22ba8-573b-42f0-96ae-1bbb40861db0",
   "metadata": {},
   "outputs": [],
   "source": [
    "st=details()"
   ]
  },
  {
   "cell_type": "code",
   "execution_count": 8,
   "id": "380b9272-b7b6-43d5-942f-99e37691414d",
   "metadata": {},
   "outputs": [
    {
     "data": {
      "text/plain": [
       "'This is test type 1001'"
      ]
     },
     "execution_count": 8,
     "metadata": {},
     "output_type": "execute_result"
    }
   ],
   "source": [
    "st.example1()"
   ]
  },
  {
   "cell_type": "code",
   "execution_count": 9,
   "id": "67c90fa2-73f0-4d10-aff6-f6d30695103b",
   "metadata": {},
   "outputs": [],
   "source": [
    "nd=masters()"
   ]
  },
  {
   "cell_type": "code",
   "execution_count": 10,
   "id": "9cd53833-eb96-4b5e-9e54-e83de4572429",
   "metadata": {},
   "outputs": [
    {
     "data": {
      "text/plain": [
       "' test type 2001'"
      ]
     },
     "execution_count": 10,
     "metadata": {},
     "output_type": "execute_result"
    }
   ],
   "source": [
    "nd.example1()"
   ]
  },
  {
   "cell_type": "code",
   "execution_count": 12,
   "id": "7bc67977-8d11-4da0-aabf-36c1e2308a6d",
   "metadata": {},
   "outputs": [],
   "source": [
    "#Q.2 Abstraction is the process of hiding the complexity of a system and exposing only the essential\n",
    "# features to the user. it allows the user to implement more complex logix while avoiding unnecessary details.\n",
    "# Encapsulation is the technique of making the fields in the class private and providing access to the fields via public method\n",
    "\n",
    "import abc\n",
    "class sample():\n",
    "    \n",
    "    @abc.abstractmethod\n",
    "    def class1(self):\n",
    "        pass\n",
    "    "
   ]
  },
  {
   "cell_type": "code",
   "execution_count": 36,
   "id": "edfee00c-1c0d-4835-93ba-d95447ff6416",
   "metadata": {},
   "outputs": [],
   "source": [
    "class question2(sample):\n",
    "    \n",
    "    def class1(self,number_students,school):\n",
    "        self.__number_students=number_students\n",
    "        self.school=school\n",
    "    \n",
    "    def output(self):\n",
    "        return (self.__number_students,self.school)\n",
    "    "
   ]
  },
  {
   "cell_type": "code",
   "execution_count": 37,
   "id": "cd4f1872-d446-4434-91af-2cd9e5b6de76",
   "metadata": {},
   "outputs": [],
   "source": [
    "example=question2()"
   ]
  },
  {
   "cell_type": "code",
   "execution_count": 38,
   "id": "de3f308d-e300-4f62-a6bc-5c13939fe8e9",
   "metadata": {},
   "outputs": [],
   "source": [
    "example.class1(24,\"GD Goenka\")"
   ]
  },
  {
   "cell_type": "code",
   "execution_count": 39,
   "id": "deece56f-9412-4413-81c5-ae0b1f6d4a03",
   "metadata": {},
   "outputs": [
    {
     "data": {
      "text/plain": [
       "24"
      ]
     },
     "execution_count": 39,
     "metadata": {},
     "output_type": "execute_result"
    }
   ],
   "source": [
    "example._question2__number_students"
   ]
  },
  {
   "cell_type": "code",
   "execution_count": 40,
   "id": "d4275b61-9f94-4f8c-95e8-8c9e0a0b5217",
   "metadata": {},
   "outputs": [
    {
     "data": {
      "text/plain": [
       "(24, 'GD Goenka')"
      ]
     },
     "execution_count": 40,
     "metadata": {},
     "output_type": "execute_result"
    }
   ],
   "source": [
    "example.output()"
   ]
  },
  {
   "cell_type": "code",
   "execution_count": 41,
   "id": "83a77d8e-2ed8-4d5a-9751-1deeddb03a4b",
   "metadata": {},
   "outputs": [],
   "source": [
    "#Q.3\n",
    "# It offers tools to create abstract base classes (ABCs), which serve as \n",
    "# blueprints for other classes to inherit from.\n",
    "# Key features\n",
    "#1. Enforces a consistent interface across subclasses\n",
    "#2. Prevents direct instantiation of abstracr classes\n",
    "#3. Enables type checking and polymorphism\n",
    "# whys it is used\n",
    "#1. Encourages code reusability and maintainability\n",
    "#2. Ensures consistency across related classes\n",
    "#3. facilitates type checking and polymorphism\n",
    "#4. serves as a design pattern for complex class hierarchies"
   ]
  },
  {
   "cell_type": "code",
   "execution_count": 42,
   "id": "d9820f2a-96c8-41a0-b280-21cd6bcf4fb0",
   "metadata": {},
   "outputs": [],
   "source": [
    "# Q.4\n",
    "# 1.Abstract classes: An abstract class is a class that contains one \n",
    "# or more abstracts methods. An abstract method is a method that is declared, but contains no implementation.\n",
    "# Steps \n",
    "# 1.Import abc model\n",
    "# 2. create a class\n",
    "# 3. define abstract methods @abc.abstractmethod\n",
    "# 4. Inherit from the abstract class "
   ]
  },
  {
   "cell_type": "code",
   "execution_count": 43,
   "id": "f8e79fd9-6748-41b5-845d-97c93bd5936f",
   "metadata": {},
   "outputs": [],
   "source": [
    "# Q.5\n",
    "# No we cannot create an instance of an abstract class directly. \n",
    "# This is because an abstract class is not a complete class.\n",
    "# It is designed to be subclassed by other classes, and it can contain\n",
    "# abstract methods (methods without an implementation) that the subclass is supposed to implement."
   ]
  },
  {
   "cell_type": "code",
   "execution_count": null,
   "id": "634eb04f-4300-46b4-8f07-b4f2aab8b45f",
   "metadata": {},
   "outputs": [],
   "source": []
  }
 ],
 "metadata": {
  "kernelspec": {
   "display_name": "Python 3 (ipykernel)",
   "language": "python",
   "name": "python3"
  },
  "language_info": {
   "codemirror_mode": {
    "name": "ipython",
    "version": 3
   },
   "file_extension": ".py",
   "mimetype": "text/x-python",
   "name": "python",
   "nbconvert_exporter": "python",
   "pygments_lexer": "ipython3",
   "version": "3.10.8"
  }
 },
 "nbformat": 4,
 "nbformat_minor": 5
}
